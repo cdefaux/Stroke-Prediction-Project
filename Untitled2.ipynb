{
 "cells": [
  {
   "cell_type": "markdown",
   "metadata": {},
   "source": [
    "<h2>Stroke Data Analysis</h2>"
   ]
  },
  {
   "cell_type": "markdown",
   "metadata": {},
   "source": [
    "<h3>Abstract</h3>"
   ]
  },
  {
   "cell_type": "markdown",
   "metadata": {},
   "source": [
    "Data for this work was imported from a kaggle.com dataset. The dataset can be accessed with the following link: https://www.kaggle.com/asaumya/healthcare-dataset-stroke-data. The data contains information about patient age, gender, hypertension, heart disease, marital status, work status, residence type, average glucose level, BMI and smoking status all in relation to stroke. In our analysis we were working to find relationships between the various features and stroke prevalence. First, gender was explored with respect to stroke, this yielded an interesting result that the probability of stroke in males is higher, despite a smaller number of males overall in the sample.\n",
    "Next the effect of hypertension on strokes was explored and again an effect was found that showed an increased probability (from 1.48 in those without hypertension to 4.92 in those with hypertension) of stroke in those with prior hypertension. The rate was more than 3 times higher in those with hypertension than those without. Finally, the effect of BMI on heart disease was investigated as heart disease is a precursor to stroke. Again a relationship was found that indicated that those with higher BMI had a higher rate of heart disease."
   ]
  },
  {
   "cell_type": "markdown",
   "metadata": {},
   "source": [
    "<h3>Introduction</h3>"
   ]
  },
  {
   "cell_type": "code",
   "execution_count": null,
   "metadata": {},
   "outputs": [],
   "source": []
  }
 ],
 "metadata": {
  "kernelspec": {
   "display_name": "Python 3",
   "language": "python",
   "name": "python3"
  },
  "language_info": {
   "codemirror_mode": {
    "name": "ipython",
    "version": 3
   },
   "file_extension": ".py",
   "mimetype": "text/x-python",
   "name": "python",
   "nbconvert_exporter": "python",
   "pygments_lexer": "ipython3",
   "version": "3.7.3"
  }
 },
 "nbformat": 4,
 "nbformat_minor": 2
}
