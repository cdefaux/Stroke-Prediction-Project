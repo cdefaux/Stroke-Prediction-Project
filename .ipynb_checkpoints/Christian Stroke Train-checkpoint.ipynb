{
 "cells": [
  {
   "cell_type": "markdown",
   "metadata": {},
   "source": [
    "<h1> Healthcare Stroke Dataset </h1>"
   ]
  },
  {
   "cell_type": "code",
   "execution_count": 40,
   "metadata": {},
   "outputs": [],
   "source": [
    "import numpy as np\n",
    "import pandas as pd\n",
    "import matplotlib.pyplot as plt\n",
    "import seaborn as sns\n",
    "import scipy.stats as stats\n",
    "from scipy.stats import norm\n",
    "from statsmodels.stats import power\n",
    "import math"
   ]
  },
  {
   "cell_type": "markdown",
   "metadata": {},
   "source": [
    "<h2> Import Data"
   ]
  },
  {
   "cell_type": "code",
   "execution_count": 3,
   "metadata": {},
   "outputs": [
    {
     "data": {
      "text/html": [
       "<div>\n",
       "<style scoped>\n",
       "    .dataframe tbody tr th:only-of-type {\n",
       "        vertical-align: middle;\n",
       "    }\n",
       "\n",
       "    .dataframe tbody tr th {\n",
       "        vertical-align: top;\n",
       "    }\n",
       "\n",
       "    .dataframe thead th {\n",
       "        text-align: right;\n",
       "    }\n",
       "</style>\n",
       "<table border=\"1\" class=\"dataframe\">\n",
       "  <thead>\n",
       "    <tr style=\"text-align: right;\">\n",
       "      <th></th>\n",
       "      <th>id</th>\n",
       "      <th>gender</th>\n",
       "      <th>age</th>\n",
       "      <th>hypertension</th>\n",
       "      <th>heart_disease</th>\n",
       "      <th>ever_married</th>\n",
       "      <th>work_type</th>\n",
       "      <th>Residence_type</th>\n",
       "      <th>avg_glucose_level</th>\n",
       "      <th>bmi</th>\n",
       "      <th>smoking_status</th>\n",
       "      <th>stroke</th>\n",
       "    </tr>\n",
       "  </thead>\n",
       "  <tbody>\n",
       "    <tr>\n",
       "      <th>0</th>\n",
       "      <td>30669</td>\n",
       "      <td>Male</td>\n",
       "      <td>3.0</td>\n",
       "      <td>0</td>\n",
       "      <td>0</td>\n",
       "      <td>No</td>\n",
       "      <td>children</td>\n",
       "      <td>Rural</td>\n",
       "      <td>95.12</td>\n",
       "      <td>18.0</td>\n",
       "      <td>NaN</td>\n",
       "      <td>0</td>\n",
       "    </tr>\n",
       "    <tr>\n",
       "      <th>1</th>\n",
       "      <td>30468</td>\n",
       "      <td>Male</td>\n",
       "      <td>58.0</td>\n",
       "      <td>1</td>\n",
       "      <td>0</td>\n",
       "      <td>Yes</td>\n",
       "      <td>Private</td>\n",
       "      <td>Urban</td>\n",
       "      <td>87.96</td>\n",
       "      <td>39.2</td>\n",
       "      <td>never smoked</td>\n",
       "      <td>0</td>\n",
       "    </tr>\n",
       "    <tr>\n",
       "      <th>2</th>\n",
       "      <td>16523</td>\n",
       "      <td>Female</td>\n",
       "      <td>8.0</td>\n",
       "      <td>0</td>\n",
       "      <td>0</td>\n",
       "      <td>No</td>\n",
       "      <td>Private</td>\n",
       "      <td>Urban</td>\n",
       "      <td>110.89</td>\n",
       "      <td>17.6</td>\n",
       "      <td>NaN</td>\n",
       "      <td>0</td>\n",
       "    </tr>\n",
       "    <tr>\n",
       "      <th>3</th>\n",
       "      <td>56543</td>\n",
       "      <td>Female</td>\n",
       "      <td>70.0</td>\n",
       "      <td>0</td>\n",
       "      <td>0</td>\n",
       "      <td>Yes</td>\n",
       "      <td>Private</td>\n",
       "      <td>Rural</td>\n",
       "      <td>69.04</td>\n",
       "      <td>35.9</td>\n",
       "      <td>formerly smoked</td>\n",
       "      <td>0</td>\n",
       "    </tr>\n",
       "    <tr>\n",
       "      <th>4</th>\n",
       "      <td>46136</td>\n",
       "      <td>Male</td>\n",
       "      <td>14.0</td>\n",
       "      <td>0</td>\n",
       "      <td>0</td>\n",
       "      <td>No</td>\n",
       "      <td>Never_worked</td>\n",
       "      <td>Rural</td>\n",
       "      <td>161.28</td>\n",
       "      <td>19.1</td>\n",
       "      <td>NaN</td>\n",
       "      <td>0</td>\n",
       "    </tr>\n",
       "  </tbody>\n",
       "</table>\n",
       "</div>"
      ],
      "text/plain": [
       "      id  gender   age  hypertension  heart_disease ever_married  \\\n",
       "0  30669    Male   3.0             0              0           No   \n",
       "1  30468    Male  58.0             1              0          Yes   \n",
       "2  16523  Female   8.0             0              0           No   \n",
       "3  56543  Female  70.0             0              0          Yes   \n",
       "4  46136    Male  14.0             0              0           No   \n",
       "\n",
       "      work_type Residence_type  avg_glucose_level   bmi   smoking_status  \\\n",
       "0      children          Rural              95.12  18.0              NaN   \n",
       "1       Private          Urban              87.96  39.2     never smoked   \n",
       "2       Private          Urban             110.89  17.6              NaN   \n",
       "3       Private          Rural              69.04  35.9  formerly smoked   \n",
       "4  Never_worked          Rural             161.28  19.1              NaN   \n",
       "\n",
       "   stroke  \n",
       "0       0  \n",
       "1       0  \n",
       "2       0  \n",
       "3       0  \n",
       "4       0  "
      ]
     },
     "execution_count": 3,
     "metadata": {},
     "output_type": "execute_result"
    }
   ],
   "source": [
    "stroke = pd.read_csv('train_2v.csv')\n",
    "stroke.head()"
   ]
  },
  {
   "cell_type": "code",
   "execution_count": 4,
   "metadata": {
    "scrolled": true
   },
   "outputs": [
    {
     "data": {
      "text/html": [
       "<div>\n",
       "<style scoped>\n",
       "    .dataframe tbody tr th:only-of-type {\n",
       "        vertical-align: middle;\n",
       "    }\n",
       "\n",
       "    .dataframe tbody tr th {\n",
       "        vertical-align: top;\n",
       "    }\n",
       "\n",
       "    .dataframe thead th {\n",
       "        text-align: right;\n",
       "    }\n",
       "</style>\n",
       "<table border=\"1\" class=\"dataframe\">\n",
       "  <thead>\n",
       "    <tr style=\"text-align: right;\">\n",
       "      <th></th>\n",
       "      <th>id</th>\n",
       "      <th>age</th>\n",
       "      <th>hypertension</th>\n",
       "      <th>heart_disease</th>\n",
       "      <th>avg_glucose_level</th>\n",
       "      <th>bmi</th>\n",
       "      <th>stroke</th>\n",
       "    </tr>\n",
       "  </thead>\n",
       "  <tbody>\n",
       "    <tr>\n",
       "      <th>count</th>\n",
       "      <td>43400.000000</td>\n",
       "      <td>43400.000000</td>\n",
       "      <td>43400.000000</td>\n",
       "      <td>43400.000000</td>\n",
       "      <td>43400.000000</td>\n",
       "      <td>41938.000000</td>\n",
       "      <td>43400.000000</td>\n",
       "    </tr>\n",
       "    <tr>\n",
       "      <th>mean</th>\n",
       "      <td>36326.142350</td>\n",
       "      <td>42.217894</td>\n",
       "      <td>0.093571</td>\n",
       "      <td>0.047512</td>\n",
       "      <td>104.482750</td>\n",
       "      <td>28.605038</td>\n",
       "      <td>0.018041</td>\n",
       "    </tr>\n",
       "    <tr>\n",
       "      <th>std</th>\n",
       "      <td>21072.134879</td>\n",
       "      <td>22.519649</td>\n",
       "      <td>0.291235</td>\n",
       "      <td>0.212733</td>\n",
       "      <td>43.111751</td>\n",
       "      <td>7.770020</td>\n",
       "      <td>0.133103</td>\n",
       "    </tr>\n",
       "    <tr>\n",
       "      <th>min</th>\n",
       "      <td>1.000000</td>\n",
       "      <td>0.080000</td>\n",
       "      <td>0.000000</td>\n",
       "      <td>0.000000</td>\n",
       "      <td>55.000000</td>\n",
       "      <td>10.100000</td>\n",
       "      <td>0.000000</td>\n",
       "    </tr>\n",
       "    <tr>\n",
       "      <th>25%</th>\n",
       "      <td>18038.500000</td>\n",
       "      <td>24.000000</td>\n",
       "      <td>0.000000</td>\n",
       "      <td>0.000000</td>\n",
       "      <td>77.540000</td>\n",
       "      <td>23.200000</td>\n",
       "      <td>0.000000</td>\n",
       "    </tr>\n",
       "    <tr>\n",
       "      <th>50%</th>\n",
       "      <td>36351.500000</td>\n",
       "      <td>44.000000</td>\n",
       "      <td>0.000000</td>\n",
       "      <td>0.000000</td>\n",
       "      <td>91.580000</td>\n",
       "      <td>27.700000</td>\n",
       "      <td>0.000000</td>\n",
       "    </tr>\n",
       "    <tr>\n",
       "      <th>75%</th>\n",
       "      <td>54514.250000</td>\n",
       "      <td>60.000000</td>\n",
       "      <td>0.000000</td>\n",
       "      <td>0.000000</td>\n",
       "      <td>112.070000</td>\n",
       "      <td>32.900000</td>\n",
       "      <td>0.000000</td>\n",
       "    </tr>\n",
       "    <tr>\n",
       "      <th>max</th>\n",
       "      <td>72943.000000</td>\n",
       "      <td>82.000000</td>\n",
       "      <td>1.000000</td>\n",
       "      <td>1.000000</td>\n",
       "      <td>291.050000</td>\n",
       "      <td>97.600000</td>\n",
       "      <td>1.000000</td>\n",
       "    </tr>\n",
       "  </tbody>\n",
       "</table>\n",
       "</div>"
      ],
      "text/plain": [
       "                 id           age  hypertension  heart_disease  \\\n",
       "count  43400.000000  43400.000000  43400.000000   43400.000000   \n",
       "mean   36326.142350     42.217894      0.093571       0.047512   \n",
       "std    21072.134879     22.519649      0.291235       0.212733   \n",
       "min        1.000000      0.080000      0.000000       0.000000   \n",
       "25%    18038.500000     24.000000      0.000000       0.000000   \n",
       "50%    36351.500000     44.000000      0.000000       0.000000   \n",
       "75%    54514.250000     60.000000      0.000000       0.000000   \n",
       "max    72943.000000     82.000000      1.000000       1.000000   \n",
       "\n",
       "       avg_glucose_level           bmi        stroke  \n",
       "count       43400.000000  41938.000000  43400.000000  \n",
       "mean          104.482750     28.605038      0.018041  \n",
       "std            43.111751      7.770020      0.133103  \n",
       "min            55.000000     10.100000      0.000000  \n",
       "25%            77.540000     23.200000      0.000000  \n",
       "50%            91.580000     27.700000      0.000000  \n",
       "75%           112.070000     32.900000      0.000000  \n",
       "max           291.050000     97.600000      1.000000  "
      ]
     },
     "execution_count": 4,
     "metadata": {},
     "output_type": "execute_result"
    }
   ],
   "source": [
    "stroke.describe()"
   ]
  },
  {
   "cell_type": "markdown",
   "metadata": {},
   "source": [
    "<h3> Analysis of Descriptions </h3>\n",
    "\n",
    "Here we can see the information describing numerical features. As we can see from the table above, hypertension, heart disease and stroke are given as binary information. Whereas, age, BMI and average glucose level are continuous data. We looked into some unusual features such as min and max BMI which were 10 and 97 respectively. Both of these were both physically possible values, the 10 coming from the youngest patients and 97 being well within the highest range of BMI ever found in homo sapiens."
   ]
  },
  {
   "cell_type": "code",
   "execution_count": 5,
   "metadata": {},
   "outputs": [
    {
     "name": "stdout",
     "output_type": "stream",
     "text": [
      "<class 'pandas.core.frame.DataFrame'>\n",
      "RangeIndex: 43400 entries, 0 to 43399\n",
      "Data columns (total 12 columns):\n",
      "id                   43400 non-null int64\n",
      "gender               43400 non-null object\n",
      "age                  43400 non-null float64\n",
      "hypertension         43400 non-null int64\n",
      "heart_disease        43400 non-null int64\n",
      "ever_married         43400 non-null object\n",
      "work_type            43400 non-null object\n",
      "Residence_type       43400 non-null object\n",
      "avg_glucose_level    43400 non-null float64\n",
      "bmi                  41938 non-null float64\n",
      "smoking_status       30108 non-null object\n",
      "stroke               43400 non-null int64\n",
      "dtypes: float64(3), int64(4), object(5)\n",
      "memory usage: 4.0+ MB\n"
     ]
    }
   ],
   "source": [
    "stroke.info()"
   ]
  },
  {
   "cell_type": "code",
   "execution_count": 6,
   "metadata": {},
   "outputs": [
    {
     "data": {
      "text/html": [
       "<div>\n",
       "<style scoped>\n",
       "    .dataframe tbody tr th:only-of-type {\n",
       "        vertical-align: middle;\n",
       "    }\n",
       "\n",
       "    .dataframe tbody tr th {\n",
       "        vertical-align: top;\n",
       "    }\n",
       "\n",
       "    .dataframe thead th {\n",
       "        text-align: right;\n",
       "    }\n",
       "</style>\n",
       "<table border=\"1\" class=\"dataframe\">\n",
       "  <thead>\n",
       "    <tr style=\"text-align: right;\">\n",
       "      <th></th>\n",
       "      <th>id</th>\n",
       "      <th>age</th>\n",
       "      <th>hypertension</th>\n",
       "      <th>heart_disease</th>\n",
       "      <th>avg_glucose_level</th>\n",
       "      <th>bmi</th>\n",
       "    </tr>\n",
       "    <tr>\n",
       "      <th>stroke</th>\n",
       "      <th></th>\n",
       "      <th></th>\n",
       "      <th></th>\n",
       "      <th></th>\n",
       "      <th></th>\n",
       "      <th></th>\n",
       "    </tr>\n",
       "  </thead>\n",
       "  <tbody>\n",
       "    <tr>\n",
       "      <th>0</th>\n",
       "      <td>36317.641293</td>\n",
       "      <td>41.741565</td>\n",
       "      <td>0.090598</td>\n",
       "      <td>0.044231</td>\n",
       "      <td>104.021590</td>\n",
       "      <td>28.585371</td>\n",
       "    </tr>\n",
       "    <tr>\n",
       "      <th>1</th>\n",
       "      <td>36788.836526</td>\n",
       "      <td>68.143448</td>\n",
       "      <td>0.255428</td>\n",
       "      <td>0.226054</td>\n",
       "      <td>129.582669</td>\n",
       "      <td>29.868118</td>\n",
       "    </tr>\n",
       "  </tbody>\n",
       "</table>\n",
       "</div>"
      ],
      "text/plain": [
       "                  id        age  hypertension  heart_disease  \\\n",
       "stroke                                                         \n",
       "0       36317.641293  41.741565      0.090598       0.044231   \n",
       "1       36788.836526  68.143448      0.255428       0.226054   \n",
       "\n",
       "        avg_glucose_level        bmi  \n",
       "stroke                                \n",
       "0              104.021590  28.585371  \n",
       "1              129.582669  29.868118  "
      ]
     },
     "execution_count": 6,
     "metadata": {},
     "output_type": "execute_result"
    }
   ],
   "source": [
    "stroke.groupby(['stroke']).mean()"
   ]
  },
  {
   "cell_type": "code",
   "execution_count": 7,
   "metadata": {},
   "outputs": [
    {
     "data": {
      "text/plain": [
       "array([18.        , 39.2       , 17.6       , 35.9       , 19.1       ,\n",
       "       50.1       , 17.7       , 27.        , 32.3       , 54.6       ,\n",
       "       35.        , 22.        , 39.4       , 26.1       , 42.4       ,\n",
       "       33.        , 19.7       , 22.5       , 24.6       , 25.2       ,\n",
       "       41.8       , 60.9       , 31.5       , 27.3       , 23.7       ,\n",
       "       24.5       , 28.4       , 26.9       , 26.7       , 31.2       ,\n",
       "       25.        , 25.4       , 27.5       , 16.        , 31.6       ,\n",
       "       25.1       , 30.9       , 24.8       , 23.4       , 29.4       ,\n",
       "       18.3       , 20.        , 19.5       , 36.        , 27.7       ,\n",
       "       28.5       , 26.8       , 33.6       , 29.1       , 34.9       ,\n",
       "       35.3       , 26.4       , 40.1       , 43.1       , 36.7       ,\n",
       "       29.3       , 21.2       , 36.6       , 21.4       , 27.9       ,\n",
       "       34.3       , 31.        , 38.7       , 27.6       , 16.5       ,\n",
       "       22.8       , 35.4       , 24.3       , 25.7       , 21.9       ,\n",
       "       28.60503839, 38.4       , 30.5       , 25.9       , 54.7       ,\n",
       "       29.9       , 18.6       , 27.1       , 24.9       , 19.4       ,\n",
       "       29.        , 48.2       , 34.6       , 25.8       , 27.2       ,\n",
       "       20.7       , 30.        , 37.3       , 34.1       , 23.6       ,\n",
       "       39.5       , 23.5       , 23.3       , 64.8       , 28.1       ,\n",
       "       24.4       , 29.8       , 35.1       , 43.6       , 21.        ,\n",
       "       47.3       , 16.6       , 37.5       , 24.2       , 21.6       ,\n",
       "       31.1       , 15.5       , 20.5       , 35.6       , 16.7       ,\n",
       "       41.9       , 16.4       , 17.1       , 29.2       , 37.9       ,\n",
       "       32.5       , 44.6       , 33.2       , 22.3       , 39.6       ,\n",
       "       37.8       , 40.3       , 41.5       , 41.6       , 23.8       ,\n",
       "       39.        , 23.2       , 18.9       , 36.1       , 36.3       ,\n",
       "       40.5       , 46.5       , 16.8       , 46.6       , 26.2       ,\n",
       "       35.2       , 20.9       , 36.8       , 34.4       , 22.2       ,\n",
       "       13.8       , 31.7       , 34.2       , 36.9       , 31.9       ,\n",
       "       31.8       , 29.5       , 28.8       , 28.9       , 15.3       ,\n",
       "       37.1       , 38.2       , 30.2       , 45.2       , 21.8       ,\n",
       "       17.        , 49.8       , 27.8       , 60.2       , 27.4       ,\n",
       "       22.9       , 26.6       , 23.        , 32.6       , 22.1       ,\n",
       "       25.5       , 31.4       , 26.        , 21.7       , 29.7       ,\n",
       "       44.3       , 51.        , 39.7       , 34.7       , 21.3       ,\n",
       "       23.9       , 41.2       , 30.7       , 34.8       , 19.2       ,\n",
       "       24.        , 35.7       , 35.8       , 40.8       , 24.7       ,\n",
       "       45.        , 28.3       , 19.        , 32.4       , 34.        ,\n",
       "       28.7       , 32.1       , 23.1       , 51.5       , 20.4       ,\n",
       "       29.6       , 30.6       , 71.9       , 22.6       , 26.5       ,\n",
       "       19.3       , 40.9       , 17.2       , 16.1       , 16.2       ,\n",
       "       32.        , 40.4       , 28.        , 40.6       , 18.4       ,\n",
       "       34.5       , 21.1       , 42.3       , 32.2       , 50.2       ,\n",
       "       17.5       , 30.8       , 18.7       , 42.1       , 32.8       ,\n",
       "       47.8       , 39.3       , 20.8       , 30.1       , 17.3       ,\n",
       "       36.4       , 25.3       , 12.        , 36.2       , 55.7       ,\n",
       "       14.4       , 43.        , 42.2       , 41.7       , 33.8       ,\n",
       "       43.9       , 22.7       , 25.6       , 57.5       , 37.        ,\n",
       "       38.5       , 16.3       , 20.3       , 41.1       , 44.        ,\n",
       "       32.7       , 54.2       , 40.2       , 33.3       , 17.4       ,\n",
       "       41.3       , 52.3       , 30.3       , 14.6       , 17.8       ,\n",
       "       46.1       , 32.9       , 33.1       , 18.1       , 43.8       ,\n",
       "       37.4       , 50.3       , 38.9       , 28.6       , 43.7       ,\n",
       "       39.9       , 15.9       , 35.5       , 20.1       , 31.3       ,\n",
       "       22.4       , 19.8       , 12.3       , 78.        , 38.3       ,\n",
       "       41.        , 42.6       , 43.4       , 15.1       , 20.6       ,\n",
       "       33.5       , 43.2       , 30.4       , 38.        , 33.4       ,\n",
       "       44.9       , 28.2       , 44.7       , 37.6       , 39.8       ,\n",
       "       53.4       , 55.2       , 42.        , 37.2       , 45.5       ,\n",
       "       42.8       , 24.1       , 18.8       , 42.9       , 14.3       ,\n",
       "       37.7       , 21.5       , 48.4       , 50.6       , 26.3       ,\n",
       "       46.2       , 49.5       , 43.3       , 33.9       , 18.5       ,\n",
       "       44.5       , 45.4       , 55.        , 54.8       , 33.7       ,\n",
       "       19.9       , 17.9       , 15.6       , 48.9       , 16.9       ,\n",
       "       36.5       , 47.5       , 52.8       , 38.6       , 15.2       ,\n",
       "       40.        , 66.8       , 55.1       , 18.2       , 48.5       ,\n",
       "       55.9       , 57.3       , 20.2       , 10.3       , 14.1       ,\n",
       "       15.7       , 56.        , 44.8       , 13.4       , 51.8       ,\n",
       "       38.1       , 57.7       , 44.4       , 38.8       , 44.2       ,\n",
       "       49.3       , 39.1       , 54.        , 56.1       , 97.6       ,\n",
       "       53.9       , 19.6       , 13.7       , 11.5       , 41.4       ,\n",
       "       14.2       , 49.4       , 15.4       , 45.1       , 49.2       ,\n",
       "       48.7       , 53.8       , 42.7       , 48.8       , 52.7       ,\n",
       "       53.5       , 50.5       , 15.8       , 45.3       , 46.        ,\n",
       "       14.8       , 51.9       , 63.3       , 40.7       , 45.9       ,\n",
       "       61.2       , 48.        , 46.8       , 48.3       , 58.1       ,\n",
       "       50.4       , 11.3       , 12.8       , 13.5       , 14.5       ,\n",
       "       15.        , 59.7       , 47.4       , 52.5       , 13.2       ,\n",
       "       52.9       , 61.6       , 49.9       , 54.3       , 47.9       ,\n",
       "       13.        , 13.9       , 50.9       , 57.2       , 64.4       ,\n",
       "       92.        , 50.8       , 57.9       , 45.8       , 47.6       ,\n",
       "       14.        , 46.4       , 46.9       , 47.1       , 13.3       ,\n",
       "       48.1       , 51.7       , 45.7       , 42.5       , 46.3       ,\n",
       "       54.1       , 14.9       , 56.6       , 44.1       , 60.        ,\n",
       "       46.7       , 69.8       , 51.1       , 14.7       , 11.7       ,\n",
       "       11.6       , 47.2       , 43.5       , 56.4       , 48.6       ,\n",
       "       51.6       , 89.1       , 10.6       , 45.6       , 61.        ,\n",
       "       64.2       , 55.8       , 52.4       , 57.        , 49.7       ,\n",
       "       52.6       , 12.7       , 63.8       , 66.3       , 62.2       ,\n",
       "       53.2       , 55.5       , 60.1       , 56.8       , 55.4       ,\n",
       "       47.7       , 54.9       , 56.5       , 49.1       , 68.6       ,\n",
       "       13.1       , 63.6       , 52.        , 56.7       , 57.1       ,\n",
       "       47.        , 58.4       , 49.6       , 51.3       , 51.4       ,\n",
       "       51.2       , 50.        , 54.4       , 64.9       , 63.2       ,\n",
       "       96.1       , 54.5       , 49.        , 53.        , 53.3       ,\n",
       "       12.4       , 11.2       , 58.9       , 13.6       , 53.6       ,\n",
       "       52.1       , 52.2       , 65.8       , 60.5       , 56.9       ,\n",
       "       55.3       , 12.9       , 11.        , 64.        , 58.2       ,\n",
       "       12.5       , 60.7       , 59.1       , 72.2       , 53.1       ,\n",
       "       10.8       , 63.        , 59.        , 62.3       , 61.8       ,\n",
       "       68.5       , 11.9       , 57.6       , 69.4       , 71.5       ,\n",
       "       60.3       , 59.2       , 61.9       , 58.7       , 10.5       ,\n",
       "       62.9       , 71.8       , 59.3       , 11.1       , 64.7       ,\n",
       "       12.1       , 65.7       , 61.1       , 60.6       , 58.6       ,\n",
       "       56.3       , 50.7       , 70.6       , 58.8       , 12.2       ,\n",
       "       65.3       , 70.3       , 62.        , 55.6       , 57.4       ,\n",
       "       59.9       , 57.8       , 68.        , 88.6       , 56.2       ,\n",
       "       10.1       , 58.3       , 80.1       , 65.2       , 11.4       ,\n",
       "       59.6       , 53.7       , 82.7       , 63.5       , 66.4       ,\n",
       "       58.5       , 64.1       , 80.2       , 65.5       , 65.9       ,\n",
       "       67.        , 71.7       , 58.        , 61.3       , 12.6       ,\n",
       "       89.        ])"
      ]
     },
     "execution_count": 7,
     "metadata": {},
     "output_type": "execute_result"
    }
   ],
   "source": [
    "stroke.bmi.fillna(stroke.bmi.mean(), inplace=True)\n",
    "\n",
    "stroke.bmi.unique()"
   ]
  },
  {
   "cell_type": "code",
   "execution_count": 8,
   "metadata": {
    "scrolled": true
   },
   "outputs": [
    {
     "data": {
      "text/plain": [
       "id                       0\n",
       "gender                   0\n",
       "age                      0\n",
       "hypertension             0\n",
       "heart_disease            0\n",
       "ever_married             0\n",
       "work_type                0\n",
       "Residence_type           0\n",
       "avg_glucose_level        0\n",
       "bmi                      0\n",
       "smoking_status       13292\n",
       "stroke                   0\n",
       "dtype: int64"
      ]
     },
     "execution_count": 8,
     "metadata": {},
     "output_type": "execute_result"
    }
   ],
   "source": [
    "stroke.isnull().sum()"
   ]
  },
  {
   "cell_type": "markdown",
   "metadata": {},
   "source": [
    "<h3> Removal of Features </h3>\n",
    "\n",
    "As we can see there are many missing values in the smoking status column, this makes 30.63% missing values within the feature. Therefore, we will drop this feature, despite the interesting insights we could glean from this information."
   ]
  },
  {
   "cell_type": "code",
   "execution_count": 9,
   "metadata": {},
   "outputs": [],
   "source": [
    "stroke.drop(columns = 'smoking_status', inplace = True)"
   ]
  },
  {
   "cell_type": "markdown",
   "metadata": {},
   "source": [
    "<h2> Age & Other Features</h2>"
   ]
  },
  {
   "cell_type": "code",
   "execution_count": 10,
   "metadata": {
    "scrolled": true
   },
   "outputs": [
    {
     "data": {
      "text/html": [
       "<div>\n",
       "<style scoped>\n",
       "    .dataframe tbody tr th:only-of-type {\n",
       "        vertical-align: middle;\n",
       "    }\n",
       "\n",
       "    .dataframe tbody tr th {\n",
       "        vertical-align: top;\n",
       "    }\n",
       "\n",
       "    .dataframe thead th {\n",
       "        text-align: right;\n",
       "    }\n",
       "</style>\n",
       "<table border=\"1\" class=\"dataframe\">\n",
       "  <thead>\n",
       "    <tr style=\"text-align: right;\">\n",
       "      <th></th>\n",
       "      <th>id</th>\n",
       "      <th>age</th>\n",
       "      <th>hypertension</th>\n",
       "      <th>heart_disease</th>\n",
       "      <th>avg_glucose_level</th>\n",
       "      <th>bmi</th>\n",
       "      <th>stroke</th>\n",
       "    </tr>\n",
       "    <tr>\n",
       "      <th>age</th>\n",
       "      <th></th>\n",
       "      <th></th>\n",
       "      <th></th>\n",
       "      <th></th>\n",
       "      <th></th>\n",
       "      <th></th>\n",
       "      <th></th>\n",
       "    </tr>\n",
       "  </thead>\n",
       "  <tbody>\n",
       "    <tr>\n",
       "      <th>0.0</th>\n",
       "      <td>150251486</td>\n",
       "      <td>18063.6</td>\n",
       "      <td>1</td>\n",
       "      <td>3</td>\n",
       "      <td>395809.47</td>\n",
       "      <td>80847.462764</td>\n",
       "      <td>1</td>\n",
       "    </tr>\n",
       "    <tr>\n",
       "      <th>10.0</th>\n",
       "      <td>153224273</td>\n",
       "      <td>62788.0</td>\n",
       "      <td>9</td>\n",
       "      <td>1</td>\n",
       "      <td>392467.82</td>\n",
       "      <td>103899.087188</td>\n",
       "      <td>1</td>\n",
       "    </tr>\n",
       "    <tr>\n",
       "      <th>20.0</th>\n",
       "      <td>189978474</td>\n",
       "      <td>127852.0</td>\n",
       "      <td>51</td>\n",
       "      <td>4</td>\n",
       "      <td>488553.26</td>\n",
       "      <td>147377.543378</td>\n",
       "      <td>2</td>\n",
       "    </tr>\n",
       "    <tr>\n",
       "      <th>30.0</th>\n",
       "      <td>197907954</td>\n",
       "      <td>189138.0</td>\n",
       "      <td>238</td>\n",
       "      <td>21</td>\n",
       "      <td>535296.68</td>\n",
       "      <td>167312.249952</td>\n",
       "      <td>20</td>\n",
       "    </tr>\n",
       "    <tr>\n",
       "      <th>40.0</th>\n",
       "      <td>230257181</td>\n",
       "      <td>282271.0</td>\n",
       "      <td>537</td>\n",
       "      <td>132</td>\n",
       "      <td>645872.15</td>\n",
       "      <td>196672.342179</td>\n",
       "      <td>42</td>\n",
       "    </tr>\n",
       "    <tr>\n",
       "      <th>50.0</th>\n",
       "      <td>249503232</td>\n",
       "      <td>368026.0</td>\n",
       "      <td>901</td>\n",
       "      <td>342</td>\n",
       "      <td>743641.77</td>\n",
       "      <td>211787.274713</td>\n",
       "      <td>125</td>\n",
       "    </tr>\n",
       "    <tr>\n",
       "      <th>60.0</th>\n",
       "      <td>198615187</td>\n",
       "      <td>346496.0</td>\n",
       "      <td>1018</td>\n",
       "      <td>551</td>\n",
       "      <td>640782.30</td>\n",
       "      <td>167874.977016</td>\n",
       "      <td>162</td>\n",
       "    </tr>\n",
       "    <tr>\n",
       "      <th>70.0</th>\n",
       "      <td>154577972</td>\n",
       "      <td>321738.0</td>\n",
       "      <td>956</td>\n",
       "      <td>703</td>\n",
       "      <td>519893.82</td>\n",
       "      <td>125862.851824</td>\n",
       "      <td>302</td>\n",
       "    </tr>\n",
       "    <tr>\n",
       "      <th>80.0</th>\n",
       "      <td>52238819</td>\n",
       "      <td>115884.0</td>\n",
       "      <td>350</td>\n",
       "      <td>305</td>\n",
       "      <td>172234.08</td>\n",
       "      <td>39824.877111</td>\n",
       "      <td>128</td>\n",
       "    </tr>\n",
       "  </tbody>\n",
       "</table>\n",
       "</div>"
      ],
      "text/plain": [
       "             id       age  hypertension  heart_disease  avg_glucose_level  \\\n",
       "age                                                                         \n",
       "0.0   150251486   18063.6             1              3          395809.47   \n",
       "10.0  153224273   62788.0             9              1          392467.82   \n",
       "20.0  189978474  127852.0            51              4          488553.26   \n",
       "30.0  197907954  189138.0           238             21          535296.68   \n",
       "40.0  230257181  282271.0           537            132          645872.15   \n",
       "50.0  249503232  368026.0           901            342          743641.77   \n",
       "60.0  198615187  346496.0          1018            551          640782.30   \n",
       "70.0  154577972  321738.0           956            703          519893.82   \n",
       "80.0   52238819  115884.0           350            305          172234.08   \n",
       "\n",
       "                bmi  stroke  \n",
       "age                          \n",
       "0.0    80847.462764       1  \n",
       "10.0  103899.087188       1  \n",
       "20.0  147377.543378       2  \n",
       "30.0  167312.249952      20  \n",
       "40.0  196672.342179      42  \n",
       "50.0  211787.274713     125  \n",
       "60.0  167874.977016     162  \n",
       "70.0  125862.851824     302  \n",
       "80.0   39824.877111     128  "
      ]
     },
     "execution_count": 10,
     "metadata": {},
     "output_type": "execute_result"
    }
   ],
   "source": [
    "stroke.groupby(stroke.age // 10 * 10).sum()"
   ]
  },
  {
   "cell_type": "code",
   "execution_count": 11,
   "metadata": {
    "scrolled": true
   },
   "outputs": [
    {
     "data": {
      "text/plain": [
       "Text(0, 0.5, 'Count')"
      ]
     },
     "execution_count": 11,
     "metadata": {},
     "output_type": "execute_result"
    },
    {
     "data": {
      "image/png": "[encoded data removed]",
      "text/plain": [
       "<Figure size 720x576 with 1 Axes>"
      ]
     },
     "metadata": {
      "needs_background": "light"
     },
     "output_type": "display_data"
    }
   ],
   "source": [
    "df1 = stroke.groupby(stroke.age // 10 * 10).sum()\n",
    "\n",
    "plt.figure(figsize = (10,8))\n",
    "plt.plot(df1.index, df1.hypertension, label = 'Hypertension')\n",
    "plt.plot(df1.index, df1.heart_disease, label = 'Heart Disease')\n",
    "plt.plot(df1.index, df1.stroke,label = 'Stroke')\n",
    "plt.legend()\n",
    "plt.title('Age vs Hypertension, Heart Disease and Stroke')\n",
    "plt.xlabel('Age')\n",
    "plt.ylabel('Count')"
   ]
  },
  {
   "cell_type": "code",
   "execution_count": 12,
   "metadata": {},
   "outputs": [
    {
     "data": {
      "text/plain": [
       "[<matplotlib.lines.Line2D at 0x1a2237fcf8>]"
      ]
     },
     "execution_count": 12,
     "metadata": {},
     "output_type": "execute_result"
    },
    {
     "data": {
      "image/png": "[encoded data removed]",
      "text/plain": [
       "<Figure size 432x288 with 2 Axes>"
      ]
     },
     "metadata": {
      "needs_background": "light"
     },
     "output_type": "display_data"
    }
   ],
   "source": [
    "f, (ax1, ax2) = plt.subplots(1, 3, sharey=False)\n",
    "plt.plot(df1.index, df1.heart_disease)\n",
    "plt.plot(df1.index, df1.hypertension)\n",
    "plt.plot(df1.index, df1.stroke)"
   ]
  },
  {
   "cell_type": "code",
   "execution_count": 13,
   "metadata": {},
   "outputs": [
    {
     "data": {
      "text/plain": [
       "[<matplotlib.lines.Line2D at 0x1a224039b0>]"
      ]
     },
     "execution_count": 13,
     "metadata": {},
     "output_type": "execute_result"
    },
    {
     "data": {
      "image/png": "[encoded data removed]",
      "text/plain": [
       "<Figure size 432x288 with 1 Axes>"
      ]
     },
     "metadata": {
      "needs_background": "light"
     },
     "output_type": "display_data"
    }
   ],
   "source": [
    "plt.plot(df1.index, df1.hypertension)"
   ]
  },
  {
   "cell_type": "code",
   "execution_count": 14,
   "metadata": {},
   "outputs": [
    {
     "data": {
      "text/plain": [
       "[<matplotlib.lines.Line2D at 0x1a22b315f8>]"
      ]
     },
     "execution_count": 14,
     "metadata": {},
     "output_type": "execute_result"
    },
    {
     "data": {
      "image/png": "[encoded data removed]",
      "text/plain": [
       "<Figure size 432x288 with 1 Axes>"
      ]
     },
     "metadata": {
      "needs_background": "light"
     },
     "output_type": "display_data"
    }
   ],
   "source": [
    "plt.plot(df1.index, df1.stroke)"
   ]
  },
  {
   "cell_type": "code",
   "execution_count": 15,
   "metadata": {},
   "outputs": [
    {
     "data": {
      "text/html": [
       "<div>\n",
       "<style scoped>\n",
       "    .dataframe tbody tr th:only-of-type {\n",
       "        vertical-align: middle;\n",
       "    }\n",
       "\n",
       "    .dataframe tbody tr th {\n",
       "        vertical-align: top;\n",
       "    }\n",
       "\n",
       "    .dataframe thead th {\n",
       "        text-align: right;\n",
       "    }\n",
       "</style>\n",
       "<table border=\"1\" class=\"dataframe\">\n",
       "  <thead>\n",
       "    <tr style=\"text-align: right;\">\n",
       "      <th></th>\n",
       "      <th>id</th>\n",
       "      <th>age</th>\n",
       "      <th>hypertension</th>\n",
       "      <th>heart_disease</th>\n",
       "      <th>avg_glucose_level</th>\n",
       "      <th>bmi</th>\n",
       "      <th>stroke</th>\n",
       "    </tr>\n",
       "    <tr>\n",
       "      <th>age</th>\n",
       "      <th></th>\n",
       "      <th></th>\n",
       "      <th></th>\n",
       "      <th></th>\n",
       "      <th></th>\n",
       "      <th></th>\n",
       "      <th></th>\n",
       "    </tr>\n",
       "  </thead>\n",
       "  <tbody>\n",
       "    <tr>\n",
       "      <th>0.0</th>\n",
       "      <td>35064.524154</td>\n",
       "      <td>4.215543</td>\n",
       "      <td>0.000233</td>\n",
       "      <td>0.000700</td>\n",
       "      <td>92.370938</td>\n",
       "      <td>18.867553</td>\n",
       "      <td>0.000233</td>\n",
       "    </tr>\n",
       "    <tr>\n",
       "      <th>10.0</th>\n",
       "      <td>36257.518457</td>\n",
       "      <td>14.857549</td>\n",
       "      <td>0.002130</td>\n",
       "      <td>0.000237</td>\n",
       "      <td>92.869811</td>\n",
       "      <td>24.585681</td>\n",
       "      <td>0.000237</td>\n",
       "    </tr>\n",
       "    <tr>\n",
       "      <th>20.0</th>\n",
       "      <td>36534.321923</td>\n",
       "      <td>24.586923</td>\n",
       "      <td>0.009808</td>\n",
       "      <td>0.000769</td>\n",
       "      <td>93.952550</td>\n",
       "      <td>28.341835</td>\n",
       "      <td>0.000385</td>\n",
       "    </tr>\n",
       "    <tr>\n",
       "      <th>30.0</th>\n",
       "      <td>36167.389254</td>\n",
       "      <td>34.564693</td>\n",
       "      <td>0.043494</td>\n",
       "      <td>0.003838</td>\n",
       "      <td>97.824686</td>\n",
       "      <td>30.576069</td>\n",
       "      <td>0.003655</td>\n",
       "    </tr>\n",
       "    <tr>\n",
       "      <th>40.0</th>\n",
       "      <td>36427.334441</td>\n",
       "      <td>44.656067</td>\n",
       "      <td>0.084955</td>\n",
       "      <td>0.020883</td>\n",
       "      <td>102.178793</td>\n",
       "      <td>31.114118</td>\n",
       "      <td>0.006645</td>\n",
       "    </tr>\n",
       "    <tr>\n",
       "      <th>50.0</th>\n",
       "      <td>36859.688580</td>\n",
       "      <td>54.369331</td>\n",
       "      <td>0.133107</td>\n",
       "      <td>0.050524</td>\n",
       "      <td>109.859916</td>\n",
       "      <td>31.287823</td>\n",
       "      <td>0.018467</td>\n",
       "    </tr>\n",
       "    <tr>\n",
       "      <th>60.0</th>\n",
       "      <td>36787.402667</td>\n",
       "      <td>64.177811</td>\n",
       "      <td>0.188553</td>\n",
       "      <td>0.102056</td>\n",
       "      <td>118.685368</td>\n",
       "      <td>31.093717</td>\n",
       "      <td>0.030006</td>\n",
       "    </tr>\n",
       "    <tr>\n",
       "      <th>70.0</th>\n",
       "      <td>35981.837058</td>\n",
       "      <td>74.892458</td>\n",
       "      <td>0.222533</td>\n",
       "      <td>0.163641</td>\n",
       "      <td>121.018115</td>\n",
       "      <td>29.297684</td>\n",
       "      <td>0.070298</td>\n",
       "    </tr>\n",
       "    <tr>\n",
       "      <th>80.0</th>\n",
       "      <td>36479.622207</td>\n",
       "      <td>80.924581</td>\n",
       "      <td>0.244413</td>\n",
       "      <td>0.212989</td>\n",
       "      <td>120.275196</td>\n",
       "      <td>27.810668</td>\n",
       "      <td>0.089385</td>\n",
       "    </tr>\n",
       "  </tbody>\n",
       "</table>\n",
       "</div>"
      ],
      "text/plain": [
       "                id        age  hypertension  heart_disease  avg_glucose_level  \\\n",
       "age                                                                             \n",
       "0.0   35064.524154   4.215543      0.000233       0.000700          92.370938   \n",
       "10.0  36257.518457  14.857549      0.002130       0.000237          92.869811   \n",
       "20.0  36534.321923  24.586923      0.009808       0.000769          93.952550   \n",
       "30.0  36167.389254  34.564693      0.043494       0.003838          97.824686   \n",
       "40.0  36427.334441  44.656067      0.084955       0.020883         102.178793   \n",
       "50.0  36859.688580  54.369331      0.133107       0.050524         109.859916   \n",
       "60.0  36787.402667  64.177811      0.188553       0.102056         118.685368   \n",
       "70.0  35981.837058  74.892458      0.222533       0.163641         121.018115   \n",
       "80.0  36479.622207  80.924581      0.244413       0.212989         120.275196   \n",
       "\n",
       "            bmi    stroke  \n",
       "age                        \n",
       "0.0   18.867553  0.000233  \n",
       "10.0  24.585681  0.000237  \n",
       "20.0  28.341835  0.000385  \n",
       "30.0  30.576069  0.003655  \n",
       "40.0  31.114118  0.006645  \n",
       "50.0  31.287823  0.018467  \n",
       "60.0  31.093717  0.030006  \n",
       "70.0  29.297684  0.070298  \n",
       "80.0  27.810668  0.089385  "
      ]
     },
     "execution_count": 15,
     "metadata": {},
     "output_type": "execute_result"
    }
   ],
   "source": [
    "stroke.groupby(stroke.age // 10 * 10).mean()"
   ]
  },
  {
   "cell_type": "code",
   "execution_count": null,
   "metadata": {},
   "outputs": [],
   "source": []
  },
  {
   "cell_type": "markdown",
   "metadata": {},
   "source": [
    "<h2> Gender & Stroke"
   ]
  },
  {
   "cell_type": "code",
   "execution_count": 16,
   "metadata": {
    "scrolled": false
   },
   "outputs": [
    {
     "data": {
      "text/html": [
       "<div>\n",
       "<style scoped>\n",
       "    .dataframe tbody tr th:only-of-type {\n",
       "        vertical-align: middle;\n",
       "    }\n",
       "\n",
       "    .dataframe tbody tr th {\n",
       "        vertical-align: top;\n",
       "    }\n",
       "\n",
       "    .dataframe thead th {\n",
       "        text-align: right;\n",
       "    }\n",
       "</style>\n",
       "<table border=\"1\" class=\"dataframe\">\n",
       "  <thead>\n",
       "    <tr style=\"text-align: right;\">\n",
       "      <th></th>\n",
       "      <th>id</th>\n",
       "      <th>age</th>\n",
       "      <th>hypertension</th>\n",
       "      <th>heart_disease</th>\n",
       "      <th>avg_glucose_level</th>\n",
       "      <th>bmi</th>\n",
       "      <th>stroke</th>\n",
       "    </tr>\n",
       "    <tr>\n",
       "      <th>gender</th>\n",
       "      <th></th>\n",
       "      <th></th>\n",
       "      <th></th>\n",
       "      <th></th>\n",
       "      <th></th>\n",
       "      <th></th>\n",
       "      <th></th>\n",
       "    </tr>\n",
       "  </thead>\n",
       "  <tbody>\n",
       "    <tr>\n",
       "      <th>Female</th>\n",
       "      <td>931555379</td>\n",
       "      <td>1096863.16</td>\n",
       "      <td>2253</td>\n",
       "      <td>846</td>\n",
       "      <td>2648718.77</td>\n",
       "      <td>737662.327641</td>\n",
       "      <td>431</td>\n",
       "    </tr>\n",
       "    <tr>\n",
       "      <th>Male</th>\n",
       "      <td>644609088</td>\n",
       "      <td>735009.44</td>\n",
       "      <td>1808</td>\n",
       "      <td>1216</td>\n",
       "      <td>1884857.25</td>\n",
       "      <td>503486.618332</td>\n",
       "      <td>352</td>\n",
       "    </tr>\n",
       "    <tr>\n",
       "      <th>Other</th>\n",
       "      <td>390111</td>\n",
       "      <td>384.00</td>\n",
       "      <td>0</td>\n",
       "      <td>0</td>\n",
       "      <td>975.33</td>\n",
       "      <td>309.720154</td>\n",
       "      <td>0</td>\n",
       "    </tr>\n",
       "  </tbody>\n",
       "</table>\n",
       "</div>"
      ],
      "text/plain": [
       "               id         age  hypertension  heart_disease  avg_glucose_level  \\\n",
       "gender                                                                          \n",
       "Female  931555379  1096863.16          2253            846         2648718.77   \n",
       "Male    644609088   735009.44          1808           1216         1884857.25   \n",
       "Other      390111      384.00             0              0             975.33   \n",
       "\n",
       "                  bmi  stroke  \n",
       "gender                         \n",
       "Female  737662.327641     431  \n",
       "Male    503486.618332     352  \n",
       "Other      309.720154       0  "
      ]
     },
     "execution_count": 16,
     "metadata": {},
     "output_type": "execute_result"
    }
   ],
   "source": [
    "stroke.groupby(['gender']).sum()"
   ]
  },
  {
   "cell_type": "code",
   "execution_count": null,
   "metadata": {},
   "outputs": [],
   "source": []
  },
  {
   "cell_type": "code",
   "execution_count": null,
   "metadata": {},
   "outputs": [],
   "source": []
  },
  {
   "cell_type": "code",
   "execution_count": null,
   "metadata": {},
   "outputs": [],
   "source": []
  },
  {
   "cell_type": "code",
   "execution_count": null,
   "metadata": {},
   "outputs": [],
   "source": []
  },
  {
   "cell_type": "code",
   "execution_count": null,
   "metadata": {},
   "outputs": [],
   "source": []
  },
  {
   "cell_type": "markdown",
   "metadata": {},
   "source": [
    "<h2> Hypertension & Stroke </h2>"
   ]
  },
  {
   "cell_type": "code",
   "execution_count": 17,
   "metadata": {},
   "outputs": [
    {
     "data": {
      "text/html": [
       "<div>\n",
       "<style scoped>\n",
       "    .dataframe tbody tr th:only-of-type {\n",
       "        vertical-align: middle;\n",
       "    }\n",
       "\n",
       "    .dataframe tbody tr th {\n",
       "        vertical-align: top;\n",
       "    }\n",
       "\n",
       "    .dataframe thead th {\n",
       "        text-align: right;\n",
       "    }\n",
       "</style>\n",
       "<table border=\"1\" class=\"dataframe\">\n",
       "  <thead>\n",
       "    <tr style=\"text-align: right;\">\n",
       "      <th></th>\n",
       "      <th>id</th>\n",
       "      <th>age</th>\n",
       "      <th>heart_disease</th>\n",
       "      <th>avg_glucose_level</th>\n",
       "      <th>bmi</th>\n",
       "      <th>stroke</th>\n",
       "    </tr>\n",
       "    <tr>\n",
       "      <th>hypertension</th>\n",
       "      <th></th>\n",
       "      <th></th>\n",
       "      <th></th>\n",
       "      <th></th>\n",
       "      <th></th>\n",
       "      <th></th>\n",
       "    </tr>\n",
       "  </thead>\n",
       "  <tbody>\n",
       "    <tr>\n",
       "      <th>0</th>\n",
       "      <td>1427284047</td>\n",
       "      <td>1583341.6</td>\n",
       "      <td>1547</td>\n",
       "      <td>4022947.37</td>\n",
       "      <td>1.110448e+06</td>\n",
       "      <td>583</td>\n",
       "    </tr>\n",
       "    <tr>\n",
       "      <th>1</th>\n",
       "      <td>149270531</td>\n",
       "      <td>248915.0</td>\n",
       "      <td>515</td>\n",
       "      <td>511603.98</td>\n",
       "      <td>1.310108e+05</td>\n",
       "      <td>200</td>\n",
       "    </tr>\n",
       "  </tbody>\n",
       "</table>\n",
       "</div>"
      ],
      "text/plain": [
       "                      id        age  heart_disease  avg_glucose_level  \\\n",
       "hypertension                                                            \n",
       "0             1427284047  1583341.6           1547         4022947.37   \n",
       "1              149270531   248915.0            515          511603.98   \n",
       "\n",
       "                       bmi  stroke  \n",
       "hypertension                        \n",
       "0             1.110448e+06     583  \n",
       "1             1.310108e+05     200  "
      ]
     },
     "execution_count": 17,
     "metadata": {},
     "output_type": "execute_result"
    }
   ],
   "source": [
    "stroke.groupby(['hypertension']).sum()"
   ]
  },
  {
   "cell_type": "code",
   "execution_count": 18,
   "metadata": {},
   "outputs": [
    {
     "data": {
      "text/html": [
       "<div>\n",
       "<style scoped>\n",
       "    .dataframe tbody tr th:only-of-type {\n",
       "        vertical-align: middle;\n",
       "    }\n",
       "\n",
       "    .dataframe tbody tr th {\n",
       "        vertical-align: top;\n",
       "    }\n",
       "\n",
       "    .dataframe thead th {\n",
       "        text-align: right;\n",
       "    }\n",
       "</style>\n",
       "<table border=\"1\" class=\"dataframe\">\n",
       "  <thead>\n",
       "    <tr style=\"text-align: right;\">\n",
       "      <th></th>\n",
       "      <th>id</th>\n",
       "      <th>gender</th>\n",
       "      <th>age</th>\n",
       "      <th>heart_disease</th>\n",
       "      <th>ever_married</th>\n",
       "      <th>work_type</th>\n",
       "      <th>Residence_type</th>\n",
       "      <th>avg_glucose_level</th>\n",
       "      <th>bmi</th>\n",
       "      <th>stroke</th>\n",
       "    </tr>\n",
       "    <tr>\n",
       "      <th>hypertension</th>\n",
       "      <th></th>\n",
       "      <th></th>\n",
       "      <th></th>\n",
       "      <th></th>\n",
       "      <th></th>\n",
       "      <th></th>\n",
       "      <th></th>\n",
       "      <th></th>\n",
       "      <th></th>\n",
       "      <th></th>\n",
       "    </tr>\n",
       "  </thead>\n",
       "  <tbody>\n",
       "    <tr>\n",
       "      <th>0</th>\n",
       "      <td>39339</td>\n",
       "      <td>39339</td>\n",
       "      <td>39339</td>\n",
       "      <td>39339</td>\n",
       "      <td>39339</td>\n",
       "      <td>39339</td>\n",
       "      <td>39339</td>\n",
       "      <td>39339</td>\n",
       "      <td>39339</td>\n",
       "      <td>39339</td>\n",
       "    </tr>\n",
       "    <tr>\n",
       "      <th>1</th>\n",
       "      <td>4061</td>\n",
       "      <td>4061</td>\n",
       "      <td>4061</td>\n",
       "      <td>4061</td>\n",
       "      <td>4061</td>\n",
       "      <td>4061</td>\n",
       "      <td>4061</td>\n",
       "      <td>4061</td>\n",
       "      <td>4061</td>\n",
       "      <td>4061</td>\n",
       "    </tr>\n",
       "  </tbody>\n",
       "</table>\n",
       "</div>"
      ],
      "text/plain": [
       "                 id  gender    age  heart_disease  ever_married  work_type  \\\n",
       "hypertension                                                                 \n",
       "0             39339   39339  39339          39339         39339      39339   \n",
       "1              4061    4061   4061           4061          4061       4061   \n",
       "\n",
       "              Residence_type  avg_glucose_level    bmi  stroke  \n",
       "hypertension                                                    \n",
       "0                      39339              39339  39339   39339  \n",
       "1                       4061               4061   4061    4061  "
      ]
     },
     "execution_count": 18,
     "metadata": {},
     "output_type": "execute_result"
    }
   ],
   "source": [
    "stroke.groupby(['hypertension']).count()\n",
    "#P(S|H)= 4.924%\n",
    "#P(S|NH) = 1.482%\n",
    "#ratio = 3.323"
   ]
  },
  {
   "cell_type": "code",
   "execution_count": 19,
   "metadata": {},
   "outputs": [
    {
     "data": {
      "text/html": [
       "<div>\n",
       "<style scoped>\n",
       "    .dataframe tbody tr th:only-of-type {\n",
       "        vertical-align: middle;\n",
       "    }\n",
       "\n",
       "    .dataframe tbody tr th {\n",
       "        vertical-align: top;\n",
       "    }\n",
       "\n",
       "    .dataframe thead th {\n",
       "        text-align: right;\n",
       "    }\n",
       "</style>\n",
       "<table border=\"1\" class=\"dataframe\">\n",
       "  <thead>\n",
       "    <tr style=\"text-align: right;\">\n",
       "      <th></th>\n",
       "      <th>id</th>\n",
       "      <th>age</th>\n",
       "      <th>heart_disease</th>\n",
       "      <th>avg_glucose_level</th>\n",
       "      <th>bmi</th>\n",
       "      <th>stroke</th>\n",
       "    </tr>\n",
       "    <tr>\n",
       "      <th>hypertension</th>\n",
       "      <th></th>\n",
       "      <th></th>\n",
       "      <th></th>\n",
       "      <th></th>\n",
       "      <th></th>\n",
       "      <th></th>\n",
       "    </tr>\n",
       "  </thead>\n",
       "  <tbody>\n",
       "    <tr>\n",
       "      <th>0</th>\n",
       "      <td>36281.655533</td>\n",
       "      <td>40.248649</td>\n",
       "      <td>0.039325</td>\n",
       "      <td>102.263590</td>\n",
       "      <td>28.227659</td>\n",
       "      <td>0.014820</td>\n",
       "    </tr>\n",
       "    <tr>\n",
       "      <th>1</th>\n",
       "      <td>36757.087171</td>\n",
       "      <td>61.294016</td>\n",
       "      <td>0.126816</td>\n",
       "      <td>125.979803</td>\n",
       "      <td>32.260717</td>\n",
       "      <td>0.049249</td>\n",
       "    </tr>\n",
       "  </tbody>\n",
       "</table>\n",
       "</div>"
      ],
      "text/plain": [
       "                        id        age  heart_disease  avg_glucose_level  \\\n",
       "hypertension                                                              \n",
       "0             36281.655533  40.248649       0.039325         102.263590   \n",
       "1             36757.087171  61.294016       0.126816         125.979803   \n",
       "\n",
       "                    bmi    stroke  \n",
       "hypertension                       \n",
       "0             28.227659  0.014820  \n",
       "1             32.260717  0.049249  "
      ]
     },
     "execution_count": 19,
     "metadata": {},
     "output_type": "execute_result"
    }
   ],
   "source": [
    "stroke.groupby(['hypertension']).mean()"
   ]
  },
  {
   "cell_type": "code",
   "execution_count": 20,
   "metadata": {},
   "outputs": [],
   "source": [
    "def zscoreproportions(n1,n2,p1,p2):\n",
    "    p = (n1*p1+n2*p2)/(n1+n2)\n",
    "    stderr = np.sqrt(p*(1-p)*((1/n1)+(1/n2)))\n",
    "    z = (p1-p2)/stderr\n",
    "    return z"
   ]
  },
  {
   "cell_type": "code",
   "execution_count": 21,
   "metadata": {},
   "outputs": [
    {
     "data": {
      "text/plain": [
       "15.693650367853913"
      ]
     },
     "execution_count": 21,
     "metadata": {},
     "output_type": "execute_result"
    }
   ],
   "source": [
    "n1 = 4061\n",
    "n2 = 39339\n",
    "p1 = 0.049249\n",
    "p2 = 0.014820\n",
    "\n",
    "zscoreproportions(n1,n2,p1,p2)"
   ]
  },
  {
   "cell_type": "code",
   "execution_count": 22,
   "metadata": {},
   "outputs": [],
   "source": [
    "def cohensh(p1,p2):\n",
    "    phi1 = 2*np.arcsin(np.sqrt(p1))\n",
    "    phi2 = 2*np.arcsin(np.sqrt(p2))\n",
    "    h = np.absolute(phi1-phi2)\n",
    "    return h"
   ]
  },
  {
   "cell_type": "code",
   "execution_count": 23,
   "metadata": {},
   "outputs": [
    {
     "data": {
      "text/plain": [
       "0.20348836055520023"
      ]
     },
     "execution_count": 23,
     "metadata": {},
     "output_type": "execute_result"
    }
   ],
   "source": [
    "cohensh(p1,p2)"
   ]
  },
  {
   "cell_type": "markdown",
   "metadata": {},
   "source": [
    "<h3> Hypertension Explanation </h3>\n",
    "\n",
    "H<sub>0</sub> = P<sub>Stroke|Hypertension</sub>  =  P<sub>Stroke|No Hypertension</sub>                               \n",
    "H<sub>a</sub> = P<sub>Stroke|Hypertension</sub>  $\\neq$  P<sub>Stroke|No Hypertension</sub>\n",
    "\n",
    "H<sub>0</sub> = the proportions of stroke given hypertension and stroke given no hypertension are equal.             \n",
    "H<sub>a</sub> = the the proportions of stroke given hypertension and stroke given no hypertension are different\n",
    "\n",
    "alpha = 0.05                                                                                                         \n",
    "zscore = 1.96\n",
    "\n",
    "Using a confidence level of 95% we get an alpha zscore of 1.96, therefore our z-score of 15.7 provides significant confidence that we regject the null hypothesis (that the proportions are equal).\n",
    "\n",
    "The probability of stroke given hypertension P(S|Hyp) = 0.0492                                                       \n",
    "The probability of stroke given no hypertension P(S|NoHyp) = 0.0148\n",
    "\n",
    "Therefore, there is a much higher rate of stroke in those with hypertension.\n",
    "\n",
    "This equation information was pulled from the following website: https://stattrek.com/hypothesis-test/difference-in-proportions.aspx\n",
    "\n",
    "<h4> Cohen's H </h4>\n",
    "\n",
    "The Cohen's h provides the effect size between two proportions, the values given by Cohen are as follows:\n",
    "\n",
    "h = 0.20: \"small effect size\".                                                                                       \n",
    "h = 0.50: \"medium effect size\".                                                                                       \n",
    "h = 0.80: \"large effect size\".                                                                                       \n",
    "\n",
    "Therefore, given the values above, the effect size of hypertension on stroke is small. This does not mean, however, that there is no effect, rather that the effect is small.\n",
    "\n",
    "The formula for Cohen's h is pulled from this Wikipedia document: https://en.wikipedia.org/wiki/Cohen%27s_h"
   ]
  },
  {
   "cell_type": "markdown",
   "metadata": {},
   "source": [
    "<h2> Effect of BMI on Heart Disease"
   ]
  },
  {
   "cell_type": "code",
   "execution_count": 24,
   "metadata": {},
   "outputs": [
    {
     "data": {
      "text/plain": [
       "<matplotlib.axes._subplots.AxesSubplot at 0x1a22bec080>"
      ]
     },
     "execution_count": 24,
     "metadata": {},
     "output_type": "execute_result"
    },
    {
     "data": {
      "image/png": "[encoded data removed]",
      "text/plain": [
       "<Figure size 432x288 with 1 Axes>"
      ]
     },
     "metadata": {
      "needs_background": "light"
     },
     "output_type": "display_data"
    }
   ],
   "source": [
    "sns.distplot(stroke.bmi)"
   ]
  },
  {
   "cell_type": "code",
   "execution_count": 25,
   "metadata": {},
   "outputs": [
    {
     "data": {
      "text/html": [
       "<div>\n",
       "<style scoped>\n",
       "    .dataframe tbody tr th:only-of-type {\n",
       "        vertical-align: middle;\n",
       "    }\n",
       "\n",
       "    .dataframe tbody tr th {\n",
       "        vertical-align: top;\n",
       "    }\n",
       "\n",
       "    .dataframe thead th {\n",
       "        text-align: right;\n",
       "    }\n",
       "</style>\n",
       "<table border=\"1\" class=\"dataframe\">\n",
       "  <thead>\n",
       "    <tr style=\"text-align: right;\">\n",
       "      <th></th>\n",
       "      <th>bmi</th>\n",
       "      <th>heart_disease</th>\n",
       "    </tr>\n",
       "  </thead>\n",
       "  <tbody>\n",
       "    <tr>\n",
       "      <th>0</th>\n",
       "      <td>18.0</td>\n",
       "      <td>0</td>\n",
       "    </tr>\n",
       "    <tr>\n",
       "      <th>1</th>\n",
       "      <td>39.2</td>\n",
       "      <td>0</td>\n",
       "    </tr>\n",
       "    <tr>\n",
       "      <th>2</th>\n",
       "      <td>17.6</td>\n",
       "      <td>0</td>\n",
       "    </tr>\n",
       "    <tr>\n",
       "      <th>3</th>\n",
       "      <td>35.9</td>\n",
       "      <td>0</td>\n",
       "    </tr>\n",
       "    <tr>\n",
       "      <th>4</th>\n",
       "      <td>19.1</td>\n",
       "      <td>0</td>\n",
       "    </tr>\n",
       "  </tbody>\n",
       "</table>\n",
       "</div>"
      ],
      "text/plain": [
       "    bmi  heart_disease\n",
       "0  18.0              0\n",
       "1  39.2              0\n",
       "2  17.6              0\n",
       "3  35.9              0\n",
       "4  19.1              0"
      ]
     },
     "execution_count": 25,
     "metadata": {},
     "output_type": "execute_result"
    }
   ],
   "source": [
    "bmi = stroke[['bmi', 'heart_disease']]\n",
    "bmi.head()"
   ]
  },
  {
   "cell_type": "code",
   "execution_count": 26,
   "metadata": {},
   "outputs": [],
   "source": [
    "heart0 = []\n",
    "heart1 = []\n",
    "for index, item in enumerate(bmi['heart_disease']):\n",
    "    if item == 0:\n",
    "        heart0.append(bmi['bmi'][index])\n",
    "    else:\n",
    "        heart1.append(bmi['bmi'][index])\n",
    "\n"
   ]
  },
  {
   "cell_type": "code",
   "execution_count": 27,
   "metadata": {
    "scrolled": true
   },
   "outputs": [
    {
     "data": {
      "text/plain": [
       "Text(0, 0.5, 'Frequency Density')"
      ]
     },
     "execution_count": 27,
     "metadata": {},
     "output_type": "execute_result"
    },
    {
     "data": {
      "image/png": "[encoded data removed]",
      "text/plain": [
       "<Figure size 432x288 with 1 Axes>"
      ]
     },
     "metadata": {
      "needs_background": "light"
     },
     "output_type": "display_data"
    }
   ],
   "source": [
    "sns.distplot(heart0)\n",
    "plt.title('Distribution of BMI for those without Heart Disease')\n",
    "plt.xlabel('BMI')\n",
    "plt.ylabel('Frequency Density')"
   ]
  },
  {
   "cell_type": "code",
   "execution_count": 28,
   "metadata": {},
   "outputs": [
    {
     "name": "stdout",
     "output_type": "stream",
     "text": [
      "28.512695011251765\n"
     ]
    }
   ],
   "source": [
    "print(np.mean(heart0))"
   ]
  },
  {
   "cell_type": "code",
   "execution_count": 29,
   "metadata": {},
   "outputs": [
    {
     "data": {
      "text/plain": [
       "Text(0, 0.5, 'Frequency Density')"
      ]
     },
     "execution_count": 29,
     "metadata": {},
     "output_type": "execute_result"
    },
    {
     "data": {
      "image/png": "[encoded data removed]",
      "text/plain": [
       "<Figure size 432x288 with 1 Axes>"
      ]
     },
     "metadata": {
      "needs_background": "light"
     },
     "output_type": "display_data"
    }
   ],
   "source": [
    "sns.distplot(heart1)\n",
    "plt.title('Distribution of BMI for those with Heart Disease')\n",
    "plt.xlabel('BMI')\n",
    "plt.ylabel('Frequency Density')"
   ]
  },
  {
   "cell_type": "code",
   "execution_count": 34,
   "metadata": {},
   "outputs": [
    {
     "name": "stdout",
     "output_type": "stream",
     "text": [
      "30.45629473863296\n",
      "41338\n",
      "2062\n",
      "0.04988146499588756\n"
     ]
    }
   ],
   "source": [
    "print(np.mean(heart1))"
   ]
  },
  {
   "cell_type": "code",
   "execution_count": 31,
   "metadata": {},
   "outputs": [
    {
     "data": {
      "text/plain": [
       "Ttest_indResult(statistic=-13.778745106535446, pvalue=1.273528822838188e-41)"
      ]
     },
     "execution_count": 31,
     "metadata": {},
     "output_type": "execute_result"
    }
   ],
   "source": [
    "stats.ttest_ind(heart0, heart1, equal_var = False)"
   ]
  },
  {
   "cell_type": "code",
   "execution_count": 32,
   "metadata": {},
   "outputs": [
    {
     "data": {
      "text/plain": [
       "0.25485107676750246"
      ]
     },
     "execution_count": 32,
     "metadata": {},
     "output_type": "execute_result"
    }
   ],
   "source": [
    "def cohensd(list1, list2):\n",
    "    s_pooled = np.sqrt(((len(list1)-1)*(np.std(list1))**2+(len(list2)-1)*(np.std(list2))**2)/((len(list1)+len(list2)+2)))\n",
    "    d = (np.mean(list1) - np.mean(list2))/s_pooled\n",
    "    return d\n",
    "cohensd(heart1, heart0)  "
   ]
  },
  {
   "cell_type": "markdown",
   "metadata": {},
   "source": [
    "<h3> Explanation of BMI's Effect on Heart Disease</h3>\n",
    "    \n",
    "H<sub>0</sub> = $\\mu$<sub>BMI|HD</sub>  =  $\\mu$<sub>BMI|NO HD</sub>                                                       \n",
    "H<sub>a</sub> = $\\mu$<sub>BMI|HD</sub>  $\\neq$  $\\mu$<sub>BMI|NO HD</sub>\n",
    "\n",
    "As we can see above, the p-value from the Welch's t-test is extremely small (1.27x10^-41) which means that we can have a large degree of confidence in the rejection of our null hypothesis.\n",
    "\n",
    "Additionally, we have calculated Cohen's d to indicate the effect size of BMI on Heart Disease. Those with heart disease have a higher BMI on average than those without. The exact effect size calculated was 0.25 which indicates a small effect size if following the advice given by Cohen and Sawilowsky (https://en.wikipedia.org/wiki/Effect_size#Cohen's_d)\n",
    "\n",
    "Very small   =\t0.01\t\n",
    "Small\t     =  0.20\t\n",
    "Medium\t     =  0.50\t\n",
    "Large\t     =  0.80\t\n",
    "Very large\t =  1.20\t\n",
    "Huge\t     =  2.0\t\n",
    "\n"
   ]
  },
  {
   "cell_type": "code",
   "execution_count": 41,
   "metadata": {},
   "outputs": [
    {
     "data": {
      "text/plain": [
       "1.0"
      ]
     },
     "execution_count": 41,
     "metadata": {},
     "output_type": "execute_result"
    }
   ],
   "source": [
    "print(len(heart0))\n",
    "print(len(heart1))\n",
    "print(len(heart1)/len(heart0))\n",
    "\n",
    "\n",
    "statsmodels.stats.power.tt_ind_solve_power(effect_size=0.254851, nobs1=41338, alpha=0.05, power=None, ratio=0.049881464995, alternative='two-sided')"
   ]
  },
  {
   "cell_type": "markdown",
   "metadata": {},
   "source": [
    "Above is the function to calculate the power which is the probability of not getting a type II error. This takes in the variables: effect size, number of observations and alpha and outputs the power. An effect size of 0.8 or greater is considered meaningful. Therefore an effect size of 1 leads us to a certainty of not having a type II error or false negative."
   ]
  },
  {
   "cell_type": "code",
   "execution_count": null,
   "metadata": {},
   "outputs": [],
   "source": []
  }
 ],
 "metadata": {
  "kernelspec": {
   "display_name": "Python 3",
   "language": "python",
   "name": "python3"
  },
  "language_info": {
   "codemirror_mode": {
    "name": "ipython",
    "version": 3
   },
   "file_extension": ".py",
   "mimetype": "text/x-python",
   "name": "python",
   "nbconvert_exporter": "python",
   "pygments_lexer": "ipython3",
   "version": "3.7.3"
  }
 },
 "nbformat": 4,
 "nbformat_minor": 2
}
